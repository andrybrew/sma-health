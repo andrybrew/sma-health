{
  "nbformat": 4,
  "nbformat_minor": 0,
  "metadata": {
    "colab": {
      "name": "01_structured_data_classification.ipynb",
      "provenance": [],
      "collapsed_sections": [],
      "toc_visible": true,
      "include_colab_link": true
    },
    "kernelspec": {
      "name": "python3",
      "display_name": "Python 3"
    }
  },
  "cells": [
    {
      "cell_type": "markdown",
      "metadata": {
        "id": "view-in-github",
        "colab_type": "text"
      },
      "source": [
        "<a href=\"https://colab.research.google.com/github/andrybrew/sma-health/blob/master/01_structured_data_classification.ipynb\" target=\"_parent\"><img src=\"https://colab.research.google.com/assets/colab-badge.svg\" alt=\"Open In Colab\"/></a>"
      ]
    },
    {
      "cell_type": "markdown",
      "metadata": {
        "id": "M9PJvs2b9Qux",
        "colab_type": "text"
      },
      "source": [
        "# **Predicting Breast Cancer Diagnosis**"
      ]
    },
    {
      "cell_type": "markdown",
      "metadata": {
        "id": "mFCPiyAA9TAc",
        "colab_type": "text"
      },
      "source": [
        "Classification is the problem of identifying to which of a set of categories (sub-populations) a new observation belongs, on the basis of a training set of data containing observations (or instances) whose category membership is known. In this section, we will use credit risk as our classification case study.\n",
        "\n",
        "Breast cancer is cancer that develops from breast tissue. After skin cancer, breast cancer is the most common cancer diagnosed in women in the United States. Breast cancer can occur in both men and women, but it's far more common in women.\n",
        "\n",
        "We will form a classification model through historical data for benign and malignant cancers to predict whether a new patient's cancer is potentially benign or malignant.\n",
        "\n",
        "Features are computed from a digitized image of a fine needle aspirate (FNA) of a breast mass. They describe characteristics of the cell nuclei present in the image.\n",
        "\n",
        "Attribute Information:\n",
        "\n",
        "1.   ID number\n",
        "2.   Diagnosis (M = malignant, B = benign)\n",
        "\n",
        "Ten real-valued features are computed for each cell nucleus:\n",
        "\n",
        "1.   radius (mean of distances from center to points on the perimeter)\n",
        "2.   texture (standard deviation of gray-scale values)\n",
        "3.   perimeter\n",
        "4.   area\n",
        "5.   smoothness (local variation in radius lengths)\n",
        "6.   compactness (perimeter^2 / area - 1.0)\n",
        "7.   concavity (severity of concave portions of the contour)\n",
        "8.   concave points (number of concave portions of the contour)\n",
        "9.   symmetry\n",
        "10.   fractal dimension (\"coastline approximation\" - 1)\n",
        "\n",
        "The mean, standard error and \"worst\" or largest (mean of the three\n",
        "largest values) of these features were computed for each image,\n",
        "resulting in 30 features. For instance, field 3 is Mean Radius, field\n",
        "13 is Radius SE, field 23 is Worst Radius.\n",
        "\n",
        "All feature values are recoded with four significant digits.\n",
        "\n",
        "Source: https://www.kaggle.com/uciml/breast-cancer-wisconsin-data"
      ]
    },
    {
      "cell_type": "markdown",
      "metadata": {
        "id": "JsxJozCbS9Vu",
        "colab_type": "text"
      },
      "source": [
        "#### **Install and Import Libraries**"
      ]
    },
    {
      "cell_type": "markdown",
      "metadata": {
        "id": "kqLFUiWbFe2g",
        "colab_type": "text"
      },
      "source": [
        "Before we begin to implement our classifier, we need to import some libraries to use them later. Here are the libraries we need to import."
      ]
    },
    {
      "cell_type": "markdown",
      "metadata": {
        "id": "FyLVQ8XixY40",
        "colab_type": "text"
      },
      "source": [
        "***Import Libraries***"
      ]
    },
    {
      "cell_type": "code",
      "metadata": {
        "id": "i61sbWLG9JRA",
        "colab_type": "code",
        "colab": {}
      },
      "source": [
        "# Import Library for Data Manipulation\n",
        "import pandas as pd\n",
        "\n",
        "# Import Library for Machine Learning\n",
        "import sklearn.metrics as metrics\n",
        "\n",
        "# Import Library for Visualization\n",
        "import matplotlib. pyplot as plt\n",
        "import seaborn as sns"
      ],
      "execution_count": null,
      "outputs": []
    },
    {
      "cell_type": "markdown",
      "metadata": {
        "id": "1qJ2DGvkTcvA",
        "colab_type": "text"
      },
      "source": [
        "#### **Import Dataset**"
      ]
    },
    {
      "cell_type": "markdown",
      "metadata": {
        "id": "OLNWCxVuGdjq",
        "colab_type": "text"
      },
      "source": [
        "Then, import our breast cancer dataset into this notebook using Pandas library. Then, we discover the dataset information and statistics."
      ]
    },
    {
      "cell_type": "markdown",
      "metadata": {
        "id": "a6rAh1pqoWVl",
        "colab_type": "text"
      },
      "source": [
        "***Credit Risk Data***"
      ]
    },
    {
      "cell_type": "code",
      "metadata": {
        "id": "zrQ_G5aQTcX3",
        "colab_type": "code",
        "colab": {}
      },
      "source": [
        "# Import Dataset\n",
        "df_cancer = pd.read_csv('https://raw.githubusercontent.com/andrybrew/sma-health/master/data/breast_cancer.csv', sep =',')\n",
        "df_cancer"
      ],
      "execution_count": null,
      "outputs": []
    },
    {
      "cell_type": "code",
      "metadata": {
        "id": "oOYs-ahcT15W",
        "colab_type": "code",
        "colab": {}
      },
      "source": [
        "# Prints the Dataset Information\n",
        "df_cancer.info()"
      ],
      "execution_count": null,
      "outputs": []
    },
    {
      "cell_type": "code",
      "metadata": {
        "id": "Xy6SGLZGT6Bg",
        "colab_type": "code",
        "colab": {}
      },
      "source": [
        "# Prints Descriptive Statistics\n",
        "df_cancer.describe().transpose()"
      ],
      "execution_count": null,
      "outputs": []
    },
    {
      "cell_type": "markdown",
      "metadata": {
        "id": "vSfvwOFtUo3Z",
        "colab_type": "text"
      },
      "source": [
        "#### **Explore the Dataset**"
      ]
    },
    {
      "cell_type": "markdown",
      "metadata": {
        "id": "-yKPOUMYHYdK",
        "colab_type": "text"
      },
      "source": [
        "We need to visualize the data before implement our classifier. Data visualization is the act of taking information (data) and placing it into a visual context, such as a map or graph. "
      ]
    },
    {
      "cell_type": "markdown",
      "metadata": {
        "id": "STVZQt4CuhOC",
        "colab_type": "text"
      },
      "source": [
        "***Visualize Correlation between Features***"
      ]
    },
    {
      "cell_type": "code",
      "metadata": {
        "id": "LJFC8ViouWfY",
        "colab_type": "code",
        "colab": {}
      },
      "source": [
        "# Draw Correlation Map\n",
        "sns.clustermap(df_cancer.corr(), center=0, cmap='vlag', linewidths=.75)"
      ],
      "execution_count": null,
      "outputs": []
    },
    {
      "cell_type": "markdown",
      "metadata": {
        "id": "3R3_fHaNgxnn",
        "colab_type": "text"
      },
      "source": [
        "#### **Preprocess the Data**"
      ]
    },
    {
      "cell_type": "markdown",
      "metadata": {
        "id": "awq12zqCI88X",
        "colab_type": "text"
      },
      "source": [
        "We should transforms raw data into an understandable format. Raw data cannot be sent through a model because would cause certain errors. That is why we need to preprocess data before sending through a model."
      ]
    },
    {
      "cell_type": "markdown",
      "metadata": {
        "id": "QrK5ahZiajKk",
        "colab_type": "text"
      },
      "source": [
        "***Handling Missing Values***"
      ]
    },
    {
      "cell_type": "code",
      "metadata": {
        "id": "5UmTO7z7aqLt",
        "colab_type": "code",
        "colab": {}
      },
      "source": [
        "# Check for Missing Values\n",
        "df_cancer.isnull().sum()"
      ],
      "execution_count": null,
      "outputs": []
    },
    {
      "cell_type": "markdown",
      "metadata": {
        "id": "v6KX8VMobdfP",
        "colab_type": "text"
      },
      "source": [
        "***Replace Values***"
      ]
    },
    {
      "cell_type": "code",
      "metadata": {
        "id": "TZSW6OQ-x5rH",
        "colab_type": "code",
        "colab": {}
      },
      "source": [
        "# Replace Class Values\n",
        "df_cancer['diagnosis'].replace(['B','M'],[0,1],inplace=True)\n",
        "\n",
        "# Show Data\n",
        "df_cancer"
      ],
      "execution_count": null,
      "outputs": []
    },
    {
      "cell_type": "markdown",
      "metadata": {
        "id": "BkoumkCc0Pxn",
        "colab_type": "text"
      },
      "source": [
        "***Select Feature and Target***"
      ]
    },
    {
      "cell_type": "markdown",
      "metadata": {
        "id": "xWht5tYwNFlr",
        "colab_type": "text"
      },
      "source": [
        "Features are individual independent variables that act as the input in your system while target is whatever the output of the input variables. "
      ]
    },
    {
      "cell_type": "code",
      "metadata": {
        "id": "3TsxYmD90T1O",
        "colab_type": "code",
        "colab": {}
      },
      "source": [
        "# Select Features\n",
        "feature = df_cancer.drop(['id', 'diagnosis'], axis=1)\n",
        "feature"
      ],
      "execution_count": null,
      "outputs": []
    },
    {
      "cell_type": "code",
      "metadata": {
        "id": "z4F1QIoR0rjm",
        "colab_type": "code",
        "colab": {}
      },
      "source": [
        "# Select Target\n",
        "target = df_cancer['diagnosis']\n",
        "target"
      ],
      "execution_count": null,
      "outputs": []
    },
    {
      "cell_type": "markdown",
      "metadata": {
        "id": "beVc-OYc1Qsi",
        "colab_type": "text"
      },
      "source": [
        "***Set Training and Testing Data***"
      ]
    },
    {
      "cell_type": "markdown",
      "metadata": {
        "id": "OUVDWVO7F7NQ",
        "colab_type": "text"
      },
      "source": [
        "The next step is to split our data into tran and test sets. For this purpose, we use the scikit-learn's train_test_split function."
      ]
    },
    {
      "cell_type": "code",
      "metadata": {
        "id": "5-BgCFd61WR6",
        "colab_type": "code",
        "colab": {}
      },
      "source": [
        "# Import Module\n",
        "from sklearn.model_selection import train_test_split, cross_val_score\n",
        "\n",
        "# Set Training and Testing Data (70:30)\n",
        "feature_train, feature_test, target_train, target_test = train_test_split(feature , target, shuffle = True, test_size=0.3, random_state=1)\n",
        "\n",
        "# Show the Training and Testing Data\n",
        "print(feature_train.shape)\n",
        "print(feature_test.shape)\n",
        "print(target_train.shape)\n",
        "print(target_test.shape)"
      ],
      "execution_count": null,
      "outputs": []
    },
    {
      "cell_type": "markdown",
      "metadata": {
        "id": "w0nXSlRfUvAi",
        "colab_type": "text"
      },
      "source": [
        "#### **Modeling**"
      ]
    },
    {
      "cell_type": "markdown",
      "metadata": {
        "id": "BetFm0a08Wv7",
        "colab_type": "text"
      },
      "source": [
        "##### **Decision Tree Classifier**"
      ]
    },
    {
      "cell_type": "markdown",
      "metadata": {
        "id": "LHORQb3zNwGE",
        "colab_type": "text"
      },
      "source": [
        "Decision tree learning is one of the predictive modelling approaches used in statistics, data mining and machine learning. It uses a decision tree (as a predictive model) to go from observations about an item (represented in the branches) to conclusions about the item's target value (represented in the leaves)."
      ]
    },
    {
      "cell_type": "markdown",
      "metadata": {
        "id": "BQ9ggByW1vuw",
        "colab_type": "text"
      },
      "source": [
        "***Build Model***"
      ]
    },
    {
      "cell_type": "code",
      "metadata": {
        "id": "TtI5tWFlflH5",
        "colab_type": "code",
        "colab": {}
      },
      "source": [
        "# Import library\n",
        "from sklearn import tree\n",
        "\n",
        "# Modeling Decision Tree\n",
        "dtree = tree.DecisionTreeClassifier(min_impurity_decrease=0.01)\n",
        "dtree.fit(feature_train, target_train)\n",
        "\n",
        "# Predict Test Data \n",
        "target_predicted_dtree = dtree.predict(feature_test)\n",
        "target_predicted_dtree"
      ],
      "execution_count": null,
      "outputs": []
    },
    {
      "cell_type": "code",
      "metadata": {
        "id": "fTUQdVas349J",
        "colab_type": "code",
        "colab": {}
      },
      "source": [
        "# Visualize Tree\n",
        "\n",
        "from sklearn.externals.six import StringIO  \n",
        "from IPython.display import Image  \n",
        "from sklearn.tree import export_graphviz\n",
        "import pydotplus\n",
        "\n",
        "feature_names = df_cancer.columns[2:]\n",
        "\n",
        "dot_data = StringIO()\n",
        "export_graphviz(dtree, out_file=dot_data,  \n",
        "                filled=True, rounded=True,\n",
        "                special_characters=True,\n",
        "                class_names = ['Benign', 'Malignant'],\n",
        "                feature_names = feature_names)\n",
        "graph = pydotplus.graph_from_dot_data(dot_data.getvalue())  \n",
        "Image(graph.create_png())"
      ],
      "execution_count": null,
      "outputs": []
    },
    {
      "cell_type": "markdown",
      "metadata": {
        "id": "czEbGDKX6Z9W",
        "colab_type": "text"
      },
      "source": [
        "***Model Evaluation***"
      ]
    },
    {
      "cell_type": "code",
      "metadata": {
        "id": "gKO27Ejn7Cj1",
        "colab_type": "code",
        "colab": {}
      },
      "source": [
        "# Confsion Matrix\n",
        "cm_dtree = metrics.confusion_matrix(target_test, target_predicted_dtree)\n",
        "cm_dtree"
      ],
      "execution_count": null,
      "outputs": []
    },
    {
      "cell_type": "code",
      "metadata": {
        "id": "nlBirj1c6hwN",
        "colab_type": "code",
        "colab": {}
      },
      "source": [
        "# Accuracy, Precision, Recall\n",
        "acc_dtree = metrics.accuracy_score(target_test, target_predicted_dtree)\n",
        "prec_dtree = metrics.precision_score(target_test, target_predicted_dtree)\n",
        "rec_dtree = metrics.recall_score(target_test, target_predicted_dtree)\n",
        "f1_dtree = metrics.f1_score(target_test, target_predicted_dtree)\n",
        "kappa_dtree = metrics.cohen_kappa_score(target_test, target_predicted_dtree)\n",
        "\n",
        "# Show Accuracy, Precision, Recall\n",
        "print('Accuracy:', acc_dtree )\n",
        "print('Precision:', prec_dtree)\n",
        "print('Recall:', rec_dtree)\n",
        "print('F1 Score:', f1_dtree)\n",
        "print('Cohens Kappa Score:', kappa_dtree)"
      ],
      "execution_count": null,
      "outputs": []
    },
    {
      "cell_type": "code",
      "metadata": {
        "id": "tp2o_M1D6rKA",
        "colab_type": "code",
        "colab": {}
      },
      "source": [
        "# Import Visualization Package\n",
        "plt.rcParams['figure.figsize'] = (10, 10)\n",
        "plt.style.use('ggplot')\n",
        "\n",
        "# Visualize ROC Curve\n",
        "target_predicted_dtree_prob = dtree.predict_proba(feature_test)[::,1]\n",
        "fp_rate_dtree, tp_rate_dtree, _ = metrics.roc_curve(target_test,  target_predicted_dtree_prob)\n",
        "auc_dtree = metrics.roc_auc_score(target_test, target_predicted_dtree_prob)\n",
        "plt.plot(fp_rate_dtree, tp_rate_dtree, label='Decision Tree, auc='+str(auc_dtree))\n",
        "plt.xlabel('false positive rate') \n",
        "plt.ylabel('true positive rate')\n",
        "plt.legend(loc=4)\n",
        "plt.show()"
      ],
      "execution_count": null,
      "outputs": []
    },
    {
      "cell_type": "markdown",
      "metadata": {
        "colab_type": "text",
        "id": "8NdA3tVN8gHI"
      },
      "source": [
        "##### **K-Nearest Neighbor Classifier**"
      ]
    },
    {
      "cell_type": "markdown",
      "metadata": {
        "id": "3Pdvb_HoeBIF",
        "colab_type": "text"
      },
      "source": [
        "K nearest neighbors is a simple algorithm that stores all available cases and classifies new cases based on a similarity measure (e.g., distance functions). KNN has been used in statistical estimation and pattern recognition already in the beginning of 1970's as a non-parametric technique."
      ]
    },
    {
      "cell_type": "markdown",
      "metadata": {
        "colab_type": "text",
        "id": "wGoaggS98gHK"
      },
      "source": [
        "***Build Model***"
      ]
    },
    {
      "cell_type": "code",
      "metadata": {
        "colab_type": "code",
        "id": "KwD6j_Tz8gHO",
        "colab": {}
      },
      "source": [
        "# Import Module\n",
        "from sklearn.neighbors import KNeighborsClassifier\n",
        "\n",
        "# Modeling Naive Bayes\n",
        "knn = KNeighborsClassifier(n_neighbors= 71)\n",
        "knn.fit(feature_train, target_train)\n",
        "\n",
        "# Predict Test Data \n",
        "target_predicted_knn = knn.predict(feature_test)\n",
        "target_predicted_knn"
      ],
      "execution_count": null,
      "outputs": []
    },
    {
      "cell_type": "markdown",
      "metadata": {
        "colab_type": "text",
        "id": "UExc9lbu8gHV"
      },
      "source": [
        "***Model Evaluation***"
      ]
    },
    {
      "cell_type": "code",
      "metadata": {
        "colab_type": "code",
        "id": "ImsqBWDD8gHW",
        "colab": {}
      },
      "source": [
        "# Confsion Matrix\n",
        "cm_knn = metrics.confusion_matrix(target_test, target_predicted_knn)\n",
        "cm_knn"
      ],
      "execution_count": null,
      "outputs": []
    },
    {
      "cell_type": "code",
      "metadata": {
        "colab_type": "code",
        "id": "KRsTvIYX8gHZ",
        "colab": {}
      },
      "source": [
        "# Accuracy, Precision, Recall\n",
        "acc_knn = metrics.accuracy_score(target_test, target_predicted_knn)\n",
        "prec_knn = metrics.precision_score(target_test, target_predicted_knn)\n",
        "rec_knn = metrics.recall_score(target_test, target_predicted_knn)\n",
        "f1_knn = metrics.f1_score(target_test, target_predicted_knn)\n",
        "kappa_knn = metrics.cohen_kappa_score(target_test, target_predicted_knn)\n",
        "\n",
        "# Show Accuracy, Precision, Recall\n",
        "print('Accuracy:', acc_knn)\n",
        "print('Precision:', prec_knn)\n",
        "print('Recall:', rec_knn)\n",
        "print('F1 Score:', f1_knn)\n",
        "print('Cohens Kappa Score:', kappa_knn)"
      ],
      "execution_count": null,
      "outputs": []
    },
    {
      "cell_type": "code",
      "metadata": {
        "colab_type": "code",
        "id": "_q42OACu8gHb",
        "colab": {}
      },
      "source": [
        "# Import Visualization Package\n",
        "plt.rcParams['figure.figsize'] = (10, 10)\n",
        "plt.style.use('ggplot')\n",
        "\n",
        "# Visualize ROC Curve\n",
        "target_predicted_knn_prob = knn.predict_proba(feature_test)[::,1]\n",
        "fp_rate_knn, tp_rate_knn, _ = metrics.roc_curve(target_test,  target_predicted_knn_prob)\n",
        "auc_knn = metrics.roc_auc_score(target_test, target_predicted_knn_prob)\n",
        "plt.plot(fp_rate_knn, tp_rate_knn, label='KNN, auc='+str(auc_knn))\n",
        "plt.xlabel('false positive rate') \n",
        "plt.ylabel('true positive rate')\n",
        "plt.legend(loc=4)\n",
        "plt.show()"
      ],
      "execution_count": null,
      "outputs": []
    },
    {
      "cell_type": "markdown",
      "metadata": {
        "colab_type": "text",
        "id": "X3jogut69lMl"
      },
      "source": [
        "##### **Naive Bayes Classifier**"
      ]
    },
    {
      "cell_type": "markdown",
      "metadata": {
        "id": "akecl6P0eNHW",
        "colab_type": "text"
      },
      "source": [
        "Naïve Bayes classifiers are a family of simple \"probabilistic classifiers\" based on applying Bayes' theorem with strong (naïve) independence assumptions between the features. Naive Bayes is a simple technique for constructing classifiers: models that assign class labels to problem instances, represented as vectors of feature values, where the class labels are drawn from some finite set."
      ]
    },
    {
      "cell_type": "markdown",
      "metadata": {
        "colab_type": "text",
        "id": "w3m3nOCX9lMq"
      },
      "source": [
        "***Build Model***"
      ]
    },
    {
      "cell_type": "code",
      "metadata": {
        "colab_type": "code",
        "id": "GAKhoXd69lMt",
        "colab": {}
      },
      "source": [
        "# Import Module\n",
        "from sklearn.naive_bayes import GaussianNB \n",
        "\n",
        "# Modeling Naive Bayes\n",
        "nb = GaussianNB()\n",
        "nb.fit(feature_train, target_train)\n",
        "\n",
        "# Predict Test Data \n",
        "target_predicted_nb = nb.predict(feature_test)\n",
        "target_predicted_nb"
      ],
      "execution_count": null,
      "outputs": []
    },
    {
      "cell_type": "markdown",
      "metadata": {
        "colab_type": "text",
        "id": "LEQdq6Q29lMx"
      },
      "source": [
        "***Model Evaluation***"
      ]
    },
    {
      "cell_type": "code",
      "metadata": {
        "colab_type": "code",
        "id": "1Q2n8Oun9lMx",
        "colab": {}
      },
      "source": [
        "# Confsion Matrix\n",
        "cm_nb = metrics.confusion_matrix(target_test, target_predicted_nb)\n",
        "cm_nb"
      ],
      "execution_count": null,
      "outputs": []
    },
    {
      "cell_type": "code",
      "metadata": {
        "colab_type": "code",
        "id": "ET_Y-VD39lM1",
        "colab": {}
      },
      "source": [
        "# Accuracy, Precision, Recall\n",
        "acc_nb = metrics.accuracy_score(target_test, target_predicted_nb)\n",
        "prec_nb = metrics.precision_score(target_test, target_predicted_nb)\n",
        "rec_nb = metrics.recall_score(target_test, target_predicted_nb)\n",
        "f1_nb = metrics.f1_score(target_test, target_predicted_nb)\n",
        "kappa_nb = metrics.cohen_kappa_score(target_test, target_predicted_nb)\n",
        "\n",
        "# Show Accuracy, Precision, Recall\n",
        "print('Accuracy:', acc_nb)\n",
        "print('Precision:', prec_nb)\n",
        "print('Recall:', rec_nb)\n",
        "print('F1 Score:', f1_nb)\n",
        "print('Cohens Kappa Score:', kappa_nb)"
      ],
      "execution_count": null,
      "outputs": []
    },
    {
      "cell_type": "code",
      "metadata": {
        "colab_type": "code",
        "id": "egDxdqLr9lM3",
        "colab": {}
      },
      "source": [
        "# Import Visualization Package\n",
        "plt.rcParams['figure.figsize'] = (10, 10)\n",
        "plt.style.use('ggplot')\n",
        "\n",
        "# Visualize ROC Curve\n",
        "target_predicted_nb_prob = nb.predict_proba(feature_test)[::,1]\n",
        "fp_rate_nb, tp_rate_nb, _ = metrics.roc_curve(target_test,  target_predicted_nb_prob)\n",
        "auc_nb = metrics.roc_auc_score(target_test, target_predicted_nb_prob)\n",
        "plt.plot(fp_rate_nb, tp_rate_nb, label='Naive Bayes, auc='+str(auc_nb))\n",
        "plt.xlabel('false positive rate') \n",
        "plt.ylabel('true positive rate')\n",
        "plt.legend(loc=4)\n",
        "plt.show()"
      ],
      "execution_count": null,
      "outputs": []
    },
    {
      "cell_type": "markdown",
      "metadata": {
        "id": "rsqqZ-igGv4x",
        "colab_type": "text"
      },
      "source": [
        "#### **Evaluating Models**"
      ]
    },
    {
      "cell_type": "markdown",
      "metadata": {
        "id": "LzMIknZyI_dc",
        "colab_type": "text"
      },
      "source": [
        "***Compare Model Performance***"
      ]
    },
    {
      "cell_type": "code",
      "metadata": {
        "id": "EMiFGy5MGywu",
        "colab_type": "code",
        "colab": {}
      },
      "source": [
        "# Comparing Model Performance\n",
        "print('Decision Tree Accuracy =',acc_dtree)\n",
        "print('Decision Tree Precision =',prec_dtree)\n",
        "print('Decision Tree Recall =',rec_dtree)\n",
        "print('Decision Tree F1-Score =', f1_dtree)\n",
        "print('_______________________')\n",
        "print('k-NN Accuracy =', acc_knn)\n",
        "print('k-NN Precision =', prec_knn)\n",
        "print('k-NN Recall =', rec_knn)\n",
        "print('k-NN F1-Score =', f1_knn)\n",
        "print('_______________________')\n",
        "print('Naive Bayes Accuracy =', acc_nb)\n",
        "print('Naive Bayes Precision =', prec_nb)\n",
        "print('Naive Bayes Recall =', rec_nb)\n",
        "print('Naive Bayes F1-Score =', f1_nb)"
      ],
      "execution_count": null,
      "outputs": []
    },
    {
      "cell_type": "markdown",
      "metadata": {
        "id": "ViDJ86yMJCN8",
        "colab_type": "text"
      },
      "source": [
        "***Compare ROC Curve***"
      ]
    },
    {
      "cell_type": "code",
      "metadata": {
        "id": "2q4ZhqMzG0WM",
        "colab_type": "code",
        "colab": {}
      },
      "source": [
        "# Comparing ROC Curve\n",
        "plt.plot(fp_rate_dtree,tp_rate_dtree,label='Decision Tree, auc='+str(auc_dtree))\n",
        "plt.plot(fp_rate_knn,tp_rate_knn,label='K-NN, auc='+str(auc_knn))\n",
        "plt.plot(fp_rate_nb,tp_rate_nb,label='Naive Bayes, auc='+str(auc_nb))\n",
        "plt.title('ROC Curve')\n",
        "plt.xlabel('False Positive Rate')\n",
        "plt.ylabel('True Positive Rate')\n",
        "plt.legend(loc=4)\n",
        "plt.show()"
      ],
      "execution_count": null,
      "outputs": []
    },
    {
      "cell_type": "markdown",
      "metadata": {
        "id": "XlZzvjxKI4Va",
        "colab_type": "text"
      },
      "source": [
        "#### **Predict New Data**"
      ]
    },
    {
      "cell_type": "markdown",
      "metadata": {
        "id": "q6oWU933hkgq",
        "colab_type": "text"
      },
      "source": [
        "***Import New Credit Data***"
      ]
    },
    {
      "cell_type": "code",
      "metadata": {
        "id": "LjsfwTtEKVw7",
        "colab_type": "code",
        "colab": {}
      },
      "source": [
        "# Import New Dataset\n",
        "df_cancer_new = pd.read_csv('https://raw.githubusercontent.com/andrybrew/sma-health/master/data/breast_cancer_new.csv', sep =',')\n",
        "df_cancer_new"
      ],
      "execution_count": null,
      "outputs": []
    },
    {
      "cell_type": "markdown",
      "metadata": {
        "id": "0lBpnVZyhnUl",
        "colab_type": "text"
      },
      "source": [
        "***Check for Missing Values***"
      ]
    },
    {
      "cell_type": "code",
      "metadata": {
        "id": "KD0sje6PgSZw",
        "colab_type": "code",
        "colab": {}
      },
      "source": [
        "# Check for Missing Values\n",
        "df_cancer_new.isnull().sum()"
      ],
      "execution_count": null,
      "outputs": []
    },
    {
      "cell_type": "code",
      "metadata": {
        "id": "MEm6JPj8iaKw",
        "colab_type": "code",
        "colab": {}
      },
      "source": [
        "# Select Features\n",
        "new_feature = df_cancer_new.drop(['id'], axis=1)\n",
        "new_feature"
      ],
      "execution_count": null,
      "outputs": []
    },
    {
      "cell_type": "markdown",
      "metadata": {
        "id": "Mvc9qmcmhjzP",
        "colab_type": "text"
      },
      "source": [
        "***Predict New Customer Data***"
      ]
    },
    {
      "cell_type": "code",
      "metadata": {
        "id": "aeG_M45uKD84",
        "colab_type": "code",
        "colab": {}
      },
      "source": [
        "# Predict using Decision Tree Classifier\n",
        "new_predicted_dtree = pd.DataFrame(dtree.predict(new_feature), columns = ['diagnosis_dtree'])\n",
        "new_predicted_dtree.reset_index()\n",
        "new_predicted_dtree"
      ],
      "execution_count": null,
      "outputs": []
    },
    {
      "cell_type": "code",
      "metadata": {
        "id": "uKhUtNhdiuAh",
        "colab_type": "code",
        "colab": {}
      },
      "source": [
        "# Predict using K-Nearest Neighbor Classifier\n",
        "new_predicted_knn = pd.DataFrame(knn.predict(new_feature), columns = ['diagnosis_knn'])\n",
        "new_predicted_knn.reset_index()\n",
        "new_predicted_knn"
      ],
      "execution_count": null,
      "outputs": []
    },
    {
      "cell_type": "code",
      "metadata": {
        "id": "7mf99Ryei7_6",
        "colab_type": "code",
        "colab": {}
      },
      "source": [
        "# Predict using Naive Bayes Classifier\n",
        "new_predicted_nb = pd.DataFrame(nb.predict(new_feature), columns = ['diagnosis_nb'])\n",
        "new_predicted_nb.reset_index()\n",
        "new_predicted_nb"
      ],
      "execution_count": null,
      "outputs": []
    },
    {
      "cell_type": "markdown",
      "metadata": {
        "id": "8T10OLO-itg4",
        "colab_type": "text"
      },
      "source": [
        "***Show Prediction Comparation***"
      ]
    },
    {
      "cell_type": "code",
      "metadata": {
        "id": "IJJKIx6HinXk",
        "colab_type": "code",
        "colab": {}
      },
      "source": [
        "# Show Prediction Result\n",
        "pred_cancer = pd.concat([df_cancer_new, new_predicted_dtree, new_predicted_knn, new_predicted_nb], axis=1)\n",
        "pred_cancer"
      ],
      "execution_count": null,
      "outputs": []
    },
    {
      "cell_type": "markdown",
      "metadata": {
        "id": "87l7KhR_jkee",
        "colab_type": "text"
      },
      "source": [
        "***Save Prediction Result***"
      ]
    },
    {
      "cell_type": "code",
      "metadata": {
        "id": "giHsuKnbjmcY",
        "colab_type": "code",
        "colab": {}
      },
      "source": [
        "# Save Prediction Result\n",
        "pred_cancer.to_csv('cancer_prediction.csv', index=False)"
      ],
      "execution_count": null,
      "outputs": []
    }
  ]
}
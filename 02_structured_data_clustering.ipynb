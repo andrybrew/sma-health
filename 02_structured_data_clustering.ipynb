{
  "nbformat": 4,
  "nbformat_minor": 0,
  "metadata": {
    "colab": {
      "name": "02_structured_data_clustering.ipynb",
      "provenance": [],
      "collapsed_sections": [],
      "toc_visible": true,
      "include_colab_link": true
    },
    "kernelspec": {
      "name": "python3",
      "display_name": "Python 3"
    }
  },
  "cells": [
    {
      "cell_type": "markdown",
      "metadata": {
        "id": "view-in-github",
        "colab_type": "text"
      },
      "source": [
        "<a href=\"https://colab.research.google.com/github/andrybrew/sma-health/blob/master/02_structured_data_clustering.ipynb\" target=\"_parent\"><img src=\"https://colab.research.google.com/assets/colab-badge.svg\" alt=\"Open In Colab\"/></a>"
      ]
    },
    {
      "cell_type": "markdown",
      "metadata": {
        "id": "M9PJvs2b9Qux",
        "colab_type": "text"
      },
      "source": [
        "# **Clustering Medical Cost**"
      ]
    },
    {
      "cell_type": "markdown",
      "metadata": {
        "id": "jUadK_vH96ux",
        "colab_type": "text"
      },
      "source": [
        "Clustering is the task of dividing the data points into a number of groups. Data points in the same groups are more similar to other data points in the same group and dissimilar to the data points in other groups.\n",
        "\n",
        "1. age: age of primary beneficiary\n",
        "2. sex: insurance contractor gender, female, male\n",
        "3. bmi: Body mass index, providing an understanding of body, weights that are relatively high or low relative to height,\n",
        "objective index of body weight (kg / m ^ 2) using the ratio of height to weight, ideally 18.5 to 24.9\n",
        "4. children: Number of children covered by health insurance / Number of dependents\n",
        "5. smoker: Smoking\n",
        "6. region: the beneficiary's residential area in the US, northeast, southeast, southwest, northwest.\n",
        "7. charges: Individual medical costs billed by health insurance\n",
        "\n",
        "Source: https://www.kaggle.com/mirichoi0218/insurance\n"
      ]
    },
    {
      "cell_type": "markdown",
      "metadata": {
        "colab_type": "text",
        "id": "JZP77h1qaGbi"
      },
      "source": [
        "### **Install and Import Libraries**"
      ]
    },
    {
      "cell_type": "markdown",
      "metadata": {
        "colab_type": "text",
        "id": "MCQPIRbZaGbl"
      },
      "source": [
        "***Install Library***"
      ]
    },
    {
      "cell_type": "code",
      "metadata": {
        "colab_type": "code",
        "id": "z2Go39sHaGbn",
        "colab": {}
      },
      "source": [
        "# Install Category Encoders\n",
        "! pip install category_encoders"
      ],
      "execution_count": null,
      "outputs": []
    },
    {
      "cell_type": "markdown",
      "metadata": {
        "colab_type": "text",
        "id": "SmibzUJyaGby"
      },
      "source": [
        "***Import Libraries***"
      ]
    },
    {
      "cell_type": "code",
      "metadata": {
        "colab_type": "code",
        "id": "MlUoXtiBaGb0",
        "colab": {}
      },
      "source": [
        "# Import Library for Data Manipulation\n",
        "import pandas as pd\n",
        "import numpy as np\n",
        "\n",
        "# Import Library for Visualization\n",
        "import matplotlib. pyplot as plt\n",
        "import seaborn as sns"
      ],
      "execution_count": null,
      "outputs": []
    },
    {
      "cell_type": "markdown",
      "metadata": {
        "colab_type": "text",
        "id": "xOKLZILWP_lC"
      },
      "source": [
        "### **Import Data**"
      ]
    },
    {
      "cell_type": "markdown",
      "metadata": {
        "id": "cJJ-96A7-Ek7",
        "colab_type": "text"
      },
      "source": [
        "***Insurance Data***"
      ]
    },
    {
      "cell_type": "code",
      "metadata": {
        "colab_type": "code",
        "id": "sk-AHvbGP_lD",
        "colab": {}
      },
      "source": [
        "# Import Dataset\n",
        "df_insurance = pd.read_csv('https://raw.githubusercontent.com/andrybrew/sma-health/master/data/insurance.csv', sep=',')\n",
        "df_insurance"
      ],
      "execution_count": null,
      "outputs": []
    },
    {
      "cell_type": "code",
      "metadata": {
        "colab_type": "code",
        "id": "aAs3kf2hP_lG",
        "colab": {}
      },
      "source": [
        "# Prints the Dataset Information\n",
        "df_insurance.info()"
      ],
      "execution_count": null,
      "outputs": []
    },
    {
      "cell_type": "code",
      "metadata": {
        "colab_type": "code",
        "id": "PGFHmTvTP_lK",
        "colab": {}
      },
      "source": [
        "# Prints Descriptive Statistics\n",
        "df_insurance.describe().transpose()"
      ],
      "execution_count": null,
      "outputs": []
    },
    {
      "cell_type": "markdown",
      "metadata": {
        "id": "IWCxb8yslkmN",
        "colab_type": "text"
      },
      "source": [
        "### **Explore the Dataset**"
      ]
    },
    {
      "cell_type": "markdown",
      "metadata": {
        "id": "UJ0lSGYFl490",
        "colab_type": "text"
      },
      "source": [
        "***Visualize Data using Pairplot***"
      ]
    },
    {
      "cell_type": "code",
      "metadata": {
        "id": "hbBTAz-tlw97",
        "colab_type": "code",
        "colab": {}
      },
      "source": [
        "# Set Graph Size\n",
        "plt.rcParams['figure.figsize'] = (15, 8)\n",
        "\n",
        "# Visualize Pair Plot with Colors\n",
        "sns.pairplot(df_insurance, hue = 'smoker')"
      ],
      "execution_count": null,
      "outputs": []
    },
    {
      "cell_type": "markdown",
      "metadata": {
        "id": "sIyXXiQwmGBW",
        "colab_type": "text"
      },
      "source": [
        "***Visualize Data using Scatterplot***"
      ]
    },
    {
      "cell_type": "code",
      "metadata": {
        "id": "aSg6yGx-lrdY",
        "colab_type": "code",
        "colab": {}
      },
      "source": [
        "# Draw Scatter Plot\n",
        "sns.relplot(x='bmi', y='charges', data=df_insurance)\n",
        "plt.title('Medical Cost')\n",
        "plt.xlabel('Body Mass Index')\n",
        "plt.ylabel('Charges')"
      ],
      "execution_count": null,
      "outputs": []
    },
    {
      "cell_type": "markdown",
      "metadata": {
        "id": "X1zUhhAzmPg0",
        "colab_type": "text"
      },
      "source": [
        "***Visualize Correlation between Features***"
      ]
    },
    {
      "cell_type": "code",
      "metadata": {
        "id": "1_Atx0B0mO7t",
        "colab_type": "code",
        "colab": {}
      },
      "source": [
        "# Draw Correlation\n",
        "sns.clustermap(df_insurance.corr(), center=0, cmap='vlag', linewidths=.75)"
      ],
      "execution_count": null,
      "outputs": []
    },
    {
      "cell_type": "markdown",
      "metadata": {
        "colab_type": "text",
        "id": "cRaWmk38P_lO"
      },
      "source": [
        "**Data Preprocessing**"
      ]
    },
    {
      "cell_type": "markdown",
      "metadata": {
        "id": "oc0sRvtQ418Y",
        "colab_type": "text"
      },
      "source": [
        "First, we standardize the data to equalize the range and/or data variability. Feature standardization makes the values of each feature in the data have zero-mean (when subtracting the mean in the numerator) and unit-variance. "
      ]
    },
    {
      "cell_type": "markdown",
      "metadata": {
        "id": "NoZ9zzqI-gFE",
        "colab_type": "text"
      },
      "source": [
        "***Handling Missing Values***"
      ]
    },
    {
      "cell_type": "code",
      "metadata": {
        "id": "SsGGZh6p-idm",
        "colab_type": "code",
        "colab": {}
      },
      "source": [
        "# Check for Missing Values\n",
        "df_insurance.isnull().sum()"
      ],
      "execution_count": null,
      "outputs": []
    },
    {
      "cell_type": "markdown",
      "metadata": {
        "id": "GWJ7PqdR-Vax",
        "colab_type": "text"
      },
      "source": [
        "***Data Standardization***"
      ]
    },
    {
      "cell_type": "code",
      "metadata": {
        "colab_type": "code",
        "id": "DJLkVFMSP_lR",
        "colab": {}
      },
      "source": [
        "# Importing Standardscalar Module \n",
        "from sklearn.preprocessing import StandardScaler \n",
        "\n",
        "# Set Name for StandardScaler as scaler\n",
        "scaler = StandardScaler() \n",
        "\n",
        "# Select Data\n",
        "df_standardized = df_insurance[['bmi', 'charges']]\n",
        "\n",
        "# Fit Standardization\n",
        "column_names = df_standardized.columns.tolist()\n",
        "df_standardized[column_names] = scaler.fit_transform(df_standardized[column_names])\n",
        "df_standardized.sort_index(inplace=True)\n",
        "df_standardized"
      ],
      "execution_count": null,
      "outputs": []
    },
    {
      "cell_type": "markdown",
      "metadata": {
        "id": "hOpGf7k0-zUI",
        "colab_type": "text"
      },
      "source": [
        "### **Modeling**"
      ]
    },
    {
      "cell_type": "markdown",
      "metadata": {
        "id": "Unebu5ajef8R",
        "colab_type": "text"
      },
      "source": [
        "***Search for the Optimum Number of Clusters (k)***"
      ]
    },
    {
      "cell_type": "code",
      "metadata": {
        "id": "8pwgQESo_n9y",
        "colab_type": "code",
        "colab": {}
      },
      "source": [
        "# Transform Data Frame to Numpy Array\n",
        "insurance = df_standardized.to_numpy()\n",
        "insurance"
      ],
      "execution_count": null,
      "outputs": []
    },
    {
      "cell_type": "code",
      "metadata": {
        "id": "Fl---X3eeKx9",
        "colab_type": "code",
        "colab": {}
      },
      "source": [
        "# Elbow Method\n",
        "from sklearn.cluster import KMeans\n",
        "wcss = []\n",
        "for i in range(1,11):\n",
        "    kmeans = KMeans(n_clusters=i, init='k-means++', max_iter=300, n_init=10, random_state=0)\n",
        "    kmeans.fit(insurance)\n",
        "    wcss.append(kmeans.inertia_)\n",
        "  \n",
        "# Visualize \n",
        "plt.plot(range(1,11),wcss)\n",
        "plt.title('Elbow Method')\n",
        "plt.xlabel('Number of clusters')\n",
        "plt.ylabel('wcss')\n",
        "plt.xticks(np.arange(1,11,1))\n",
        "plt.show()"
      ],
      "execution_count": null,
      "outputs": []
    },
    {
      "cell_type": "markdown",
      "metadata": {
        "id": "flbUbIjetSJE",
        "colab_type": "text"
      },
      "source": [
        "The optimal K value is found to be 3."
      ]
    },
    {
      "cell_type": "markdown",
      "metadata": {
        "id": "2CHgU53qpKmd",
        "colab_type": "text"
      },
      "source": [
        "***Modeling K-Means Clustering***"
      ]
    },
    {
      "cell_type": "code",
      "metadata": {
        "id": "t5c5fGHieyID",
        "colab_type": "code",
        "colab": {}
      },
      "source": [
        "# Apply the K-Means Model to the Data\n",
        "kmeans = KMeans(n_clusters=3, init='k-means++', max_iter=300, n_init=10, random_state=0)\n",
        "clusters = kmeans.fit_predict(insurance)"
      ],
      "execution_count": null,
      "outputs": []
    },
    {
      "cell_type": "markdown",
      "metadata": {
        "id": "O1FY08RCu-l1",
        "colab_type": "text"
      },
      "source": [
        "We try to visualize the clusters in 2D graph"
      ]
    },
    {
      "cell_type": "code",
      "metadata": {
        "id": "Dp_BT-Ogtpya",
        "colab_type": "code",
        "colab": {}
      },
      "source": [
        "# Visualising Clusters\n",
        "sns.scatterplot(x='bmi', y='charges', data=df_standardized)\n",
        "plt.scatter(insurance[clusters == 0, 0], insurance[clusters == 0, 1], s = 50, label = 'Cluster 1')\n",
        "plt.scatter(insurance[clusters == 1, 0], insurance[clusters == 1, 1], s = 50, label = 'Cluster 2')\n",
        "plt.scatter(insurance[clusters == 2, 0], insurance[clusters == 2, 1], s = 50, label = 'Cluster 3')\n",
        "plt.scatter(kmeans.cluster_centers_[:,0], kmeans.cluster_centers_[:,1],s=200,marker='s', alpha=0.7, label='Centroids')\n",
        "plt.title('Medical Cost Clusters')\n",
        "plt.xlabel('Body Mass Index')\n",
        "plt.ylabel('charges')\n",
        "plt.legend()\n",
        "plt.show()"
      ],
      "execution_count": null,
      "outputs": []
    },
    {
      "cell_type": "code",
      "metadata": {
        "id": "giHsuKnbjmcY",
        "colab_type": "code",
        "colab": {}
      },
      "source": [
        "# Add Cluster Information to the Raw Data\n",
        "df_insurance['cluster'] = clusters\n",
        "df_insurance"
      ],
      "execution_count": null,
      "outputs": []
    },
    {
      "cell_type": "code",
      "metadata": {
        "id": "u7uBUTSOskCs",
        "colab_type": "code",
        "colab": {}
      },
      "source": [
        "# Save Prediction Result\n",
        "df_insurance.to_csv('customer_clusters.csv', index=False)"
      ],
      "execution_count": null,
      "outputs": []
    }
  ]
}
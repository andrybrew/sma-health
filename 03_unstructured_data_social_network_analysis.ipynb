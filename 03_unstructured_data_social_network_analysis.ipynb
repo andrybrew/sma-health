{
  "nbformat": 4,
  "nbformat_minor": 0,
  "metadata": {
    "colab": {
      "name": "03_unstructured_data_social_network_analysis.ipynb",
      "provenance": [],
      "collapsed_sections": [],
      "toc_visible": true,
      "include_colab_link": true
    },
    "kernelspec": {
      "name": "python3",
      "display_name": "Python 3"
    }
  },
  "cells": [
    {
      "cell_type": "markdown",
      "metadata": {
        "id": "view-in-github",
        "colab_type": "text"
      },
      "source": [
        "<a href=\"https://colab.research.google.com/github/andrybrew/sma-health/blob/master/03_unstructured_data_social_network_analysis.ipynb\" target=\"_parent\"><img src=\"https://colab.research.google.com/assets/colab-badge.svg\" alt=\"Open In Colab\"/></a>"
      ]
    },
    {
      "cell_type": "markdown",
      "metadata": {
        "id": "lGybSDXCvsLK",
        "colab_type": "text"
      },
      "source": [
        "# **Covid-19 and Vaccine Information Spread in Indonesia**"
      ]
    },
    {
      "cell_type": "markdown",
      "metadata": {
        "id": "D3C1UO-X42zu",
        "colab_type": "text"
      },
      "source": [
        "Coronavirus disease 2019 (COVID-19) is an infectious disease caused by severe acute respiratory syndrome coronavirus 2 (SARS-CoV-2). It was first identified in December 2019 in Wuhan, Hubei, China, and has resulted in an ongoing pandemic. The first confirmed case has been traced back to 17 November 2019 in Hubei.As of 6 August 2020, more than 18.7 million cases have been reported across 188 countries and territories, resulting in more than 706,000 deaths. More than 11.3 million people have recovered.\n",
        "\n",
        "Until now, a vaccine for this disease has not been found. However, lately a lot of parties have started to raise rumors about the issue of vaccine findings.\n",
        "\n",
        "Most of the people today share opinions and information about COVID-19 vaccine through various social media, including Twitter. "
      ]
    },
    {
      "cell_type": "markdown",
      "metadata": {
        "id": "8Y64-VX3WSZ8",
        "colab_type": "text"
      },
      "source": [
        "## **A. Collecting Twitter Data**"
      ]
    },
    {
      "cell_type": "markdown",
      "metadata": {
        "id": "ZQui_5U19fug",
        "colab_type": "text"
      },
      "source": [
        "To collect twitter data in python, we can use Tweepy. Tweepy is the most popular Python Package for accessing the Twitter API, You can read the full documentation [HERE](https://tweepy.readthedocs.io/en/latest/). In this practice, we will practice to get tweet data using a specific keyword and save it as .CSV files"
      ]
    },
    {
      "cell_type": "markdown",
      "metadata": {
        "id": "kx4wmrMY5G3q",
        "colab_type": "text"
      },
      "source": [
        "**Install & Import Libraries**"
      ]
    },
    {
      "cell_type": "code",
      "metadata": {
        "id": "qK9C5mLS-uSJ",
        "colab_type": "code",
        "colab": {}
      },
      "source": [
        "# Install Library\n",
        "!pip install tweepy"
      ],
      "execution_count": null,
      "outputs": []
    },
    {
      "cell_type": "code",
      "metadata": {
        "id": "c96ziFJK-to7",
        "colab_type": "code",
        "colab": {}
      },
      "source": [
        "# Import Libraries\n",
        "import tweepy\n",
        "import pandas as pd\n",
        "import numpy as np\n",
        "import sys\n",
        "import csv"
      ],
      "execution_count": null,
      "outputs": []
    },
    {
      "cell_type": "markdown",
      "metadata": {
        "id": "SbLaSS9b5KUg",
        "colab_type": "text"
      },
      "source": [
        "**Set API Key**"
      ]
    },
    {
      "cell_type": "code",
      "metadata": {
        "id": "dAdK1U5ytfyo",
        "colab_type": "code",
        "colab": {}
      },
      "source": [
        "# Fill the API Key\n",
        "consumer_key = 'V6ecyXIMwnIMNSwkL2Aufh7kn'\n",
        "consumer_secret = 'CZso5Sq8lSGC3fNntvli3YYJk5xZIQpuT6nJrgaqIBRPqY2Z6M'\n",
        "access_token = '159365416-TMpXIVMZQvIMCXcG8kBuPes8P9Bx7Dnv2LEJJc4P'\n",
        "access_token_secret = 'IVHB1ftl2vJTvqdRPDlePABIwUHmX2yhAZe5YQ9z01gSU'\n",
        "\n",
        "# Auth. \n",
        "auth = tweepy.OAuthHandler(consumer_key, consumer_secret)\n",
        "auth.set_access_token(access_token, access_token_secret)\n",
        "api = tweepy.API(auth)\n",
        "api"
      ],
      "execution_count": null,
      "outputs": []
    },
    {
      "cell_type": "markdown",
      "metadata": {
        "id": "2zLhaYPwNHTc",
        "colab_type": "text"
      },
      "source": [
        "**Set Tweet Requirements**"
      ]
    },
    {
      "cell_type": "code",
      "metadata": {
        "id": "ioHPBkBkNcrL",
        "colab_type": "code",
        "colab": {}
      },
      "source": [
        "# Set Word to Follow\n",
        "keyword = 'covid'\n",
        "\n",
        "# Set Number of Tweets\n",
        "number_of_tweets = 100\n",
        "\n",
        "# Tweet Mode\n",
        "tweet_mode = 'extended'\n",
        "\n",
        "# Set Language\n",
        "language = 'id'"
      ],
      "execution_count": null,
      "outputs": []
    },
    {
      "cell_type": "markdown",
      "metadata": {
        "id": "MjyttF1r5vVR",
        "colab_type": "text"
      },
      "source": [
        "**Get the Tweets**"
      ]
    },
    {
      "cell_type": "code",
      "metadata": {
        "id": "2d4CRt7uw4wG",
        "colab_type": "code",
        "colab": {}
      },
      "source": [
        "# Finding Tweets by Keyword\n",
        "crawling_keyword = api.search(keyword, count=number_of_tweets, tweet_mode = tweet_mode, lang=language)\n",
        "\n",
        "# Show Tweets\n",
        "crawling_keyword"
      ],
      "execution_count": null,
      "outputs": []
    },
    {
      "cell_type": "markdown",
      "metadata": {
        "id": "umdY1Nbtv6S4",
        "colab_type": "text"
      },
      "source": [
        "**Transform Tweets to Dataframe**"
      ]
    },
    {
      "cell_type": "code",
      "metadata": {
        "id": "bFEH8_gKy0Fa",
        "colab_type": "code",
        "colab": {}
      },
      "source": [
        "# Create Tweets Data Frame\n",
        "df_crawling_keyword = pd.DataFrame({\n",
        "                      'time' : [tweet.created_at for tweet in crawling_keyword],\n",
        "                      'description' : [tweet.user.description for tweet in crawling_keyword],\n",
        "                      'usertweets' : [tweet.user.statuses_count for tweet in crawling_keyword],\n",
        "                      'source' : [tweet.user.screen_name for tweet in crawling_keyword],\n",
        "                      'target' : [tweet.in_reply_to_screen_name for tweet in crawling_keyword],\n",
        "                      'verified' : [tweet.user.verified for tweet in crawling_keyword],\n",
        "                      'text' : [tweet.full_text for tweet in crawling_keyword],\n",
        "                      'hashtags' : [tweet.entities['hashtags'] for tweet in crawling_keyword],\n",
        "                      'location' : [tweet.user.location for tweet in crawling_keyword],\n",
        "                      'following' : [tweet.user.friends_count for tweet in crawling_keyword],\n",
        "                      'followers' : [tweet.user.followers_count for tweet in crawling_keyword],\n",
        "                      'retweets' : [tweet.retweet_count for tweet in crawling_keyword],\n",
        "                      })\n",
        "\n",
        "df_crawling_keyword"
      ],
      "execution_count": null,
      "outputs": []
    },
    {
      "cell_type": "markdown",
      "metadata": {
        "id": "G6rAt47bOTv-",
        "colab_type": "text"
      },
      "source": [
        "**Save Tweets**"
      ]
    },
    {
      "cell_type": "code",
      "metadata": {
        "id": "5gF0JgyxO09A",
        "colab_type": "code",
        "colab": {}
      },
      "source": [
        "# Save as .CSV\n",
        "df_crawling_keyword.to_csv('crawling_keyword.csv')"
      ],
      "execution_count": null,
      "outputs": []
    },
    {
      "cell_type": "markdown",
      "metadata": {
        "id": "OiZniJ88AcHH",
        "colab_type": "text"
      },
      "source": [
        "## **B. Social Network Analysis: Covid-19**"
      ]
    },
    {
      "cell_type": "markdown",
      "metadata": {
        "id": "DXKbtyB8KIZP",
        "colab_type": "text"
      },
      "source": [
        "Network theory is the study of graphs as a representation of either symmetric relations or asymmetric relations between discrete objects. In computer science and network science, network theory is a part of graph theory: a network can be defined as a graph in which nodes and/or edges have attributes (e.g. names).\n",
        "\n",
        "Social network analysis (SNA) is the process of investigating social structures through the use of networks and graph theory. It characterizes networked structures in terms of nodes (individual actors, people, or things within the network) and the ties, edges, or links (relationships or interactions) that connect them."
      ]
    },
    {
      "cell_type": "markdown",
      "metadata": {
        "id": "PQhsmBwSKxl3",
        "colab_type": "text"
      },
      "source": [
        "In this prcatice we will use NetworkX. NetworkX is a Python package for the creation, manipulation, and study of the structure, dynamics, and functions of complex networks. You can see the full documentation of NetworkX HERE"
      ]
    },
    {
      "cell_type": "markdown",
      "metadata": {
        "id": "ajIRyYeAW9lq",
        "colab_type": "text"
      },
      "source": [
        "**Install & Import Libraries**"
      ]
    },
    {
      "cell_type": "code",
      "metadata": {
        "id": "iv2l0EPlXXLK",
        "colab_type": "code",
        "colab": {}
      },
      "source": [
        "# Import Libraries\n",
        "import pandas as pd\n",
        "import matplotlib.pyplot as plt\n",
        "import networkx as nx\n",
        "import community\n",
        "import seaborn as sns"
      ],
      "execution_count": null,
      "outputs": []
    },
    {
      "cell_type": "markdown",
      "metadata": {
        "id": "LBY920BBAhKW",
        "colab_type": "text"
      },
      "source": [
        "### **Network Construction**"
      ]
    },
    {
      "cell_type": "markdown",
      "metadata": {
        "id": "qQBKbxKmTfYw",
        "colab_type": "text"
      },
      "source": [
        "Here we construct a social network based on conversations about covid on Twitter."
      ]
    },
    {
      "cell_type": "markdown",
      "metadata": {
        "id": "Yb8Q4cX8IqIv",
        "colab_type": "text"
      },
      "source": [
        "**Import Edge List Data**"
      ]
    },
    {
      "cell_type": "code",
      "metadata": {
        "id": "R9Saf4RFIout",
        "colab_type": "code",
        "colab": {}
      },
      "source": [
        "# Import Data\n",
        "df_tweets = pd.read_csv('https://raw.githubusercontent.com/andrybrew/sma-health/master/data/edgelist_covid.csv', sep=',')\n",
        "\n",
        "# Show Data\n",
        "df_tweets"
      ],
      "execution_count": null,
      "outputs": []
    },
    {
      "cell_type": "markdown",
      "metadata": {
        "id": "ip-ZFlhZkft0",
        "colab_type": "text"
      },
      "source": [
        "**Visualize the Network**"
      ]
    },
    {
      "cell_type": "code",
      "metadata": {
        "id": "u9XH2HTw07CZ",
        "colab_type": "code",
        "colab": {}
      },
      "source": [
        "# Contstruct a Network\n",
        "G1 = nx.from_pandas_edgelist(df_tweets)\n",
        "\n",
        "# Visualize the Network\n",
        "import matplotlib.pyplot as plt\n",
        "plt.figure(figsize=(50,50))\n",
        "nx.draw(G1, with_labels=True, \n",
        "        node_color='skyblue', node_size=1200, \n",
        "        arrowstyle='->',arrowsize=20, edge_color='r',\n",
        "        font_size=9,\n",
        "        pos=nx.kamada_kawai_layout(G1))"
      ],
      "execution_count": null,
      "outputs": []
    },
    {
      "cell_type": "markdown",
      "metadata": {
        "id": "-XibgWnJBoNL",
        "colab_type": "text"
      },
      "source": [
        "### **Network Metrics and Measurement**"
      ]
    },
    {
      "cell_type": "markdown",
      "metadata": {
        "id": "47fv2rgnKShO",
        "colab_type": "text"
      },
      "source": [
        "**Centrality Measurement**"
      ]
    },
    {
      "cell_type": "markdown",
      "metadata": {
        "id": "eonE6ffXKfqU",
        "colab_type": "text"
      },
      "source": [
        "In graph theory and network analysis, indicators of centrality identify the most important vertices within a graph. Applications include identifying the most influential person(s) in a social network, key infrastructure nodes in the Internet or urban networks, and super-spreaders of disease. Centrality concepts were first developed in social network analysis, and many of the terms used to measure centrality reflect their sociological origin."
      ]
    },
    {
      "cell_type": "code",
      "metadata": {
        "id": "qG3tJEkqKVPc",
        "colab_type": "code",
        "colab": {}
      },
      "source": [
        "# Degree Centrality\n",
        "degree = nx.degree_centrality(G1)\n",
        "\n",
        "# Sorted from the Highest\n",
        "sorted(nx.degree(G1), key=lambda x: x[1], reverse=True)[0:10]"
      ],
      "execution_count": null,
      "outputs": []
    },
    {
      "cell_type": "code",
      "metadata": {
        "id": "88vr0guJOVuz",
        "colab_type": "code",
        "colab": {}
      },
      "source": [
        "# Betweenness Centrality\n",
        "betweenness = nx.betweenness_centrality(G1)\n",
        "\n",
        "# Sorted from the Highest\n",
        "sorted(nx.betweenness_centrality(G1, normalized=True).items(), key=lambda x:x[1], reverse=True)[0:10]"
      ],
      "execution_count": null,
      "outputs": []
    },
    {
      "cell_type": "code",
      "metadata": {
        "id": "fRKPlKYsPGMx",
        "colab_type": "code",
        "colab": {}
      },
      "source": [
        "# Closeness Centrality\n",
        "closeness = nx.closeness_centrality(G1)\n",
        "\n",
        "# Sorted from the Highest\n",
        "sorted(nx.closeness_centrality(G1).items(), key=lambda x:x[1], reverse=True)[0:10]"
      ],
      "execution_count": null,
      "outputs": []
    },
    {
      "cell_type": "code",
      "metadata": {
        "id": "1XWM0uLSPdSH",
        "colab_type": "code",
        "colab": {}
      },
      "source": [
        "# Eigenvector Centrality\n",
        "eigenvector = nx.eigenvector_centrality_numpy(G1)\n",
        "\n",
        "# Sorted from the Highest\n",
        "sorted(nx.eigenvector_centrality_numpy(G1).items(), key=lambda x:x[1], reverse=True)[0:10]"
      ],
      "execution_count": null,
      "outputs": []
    },
    {
      "cell_type": "markdown",
      "metadata": {
        "id": "3-yP2w-3G_zq",
        "colab_type": "text"
      },
      "source": [
        "***Visualize Centrality Score with Scatter Plot***"
      ]
    },
    {
      "cell_type": "code",
      "metadata": {
        "id": "1LYwc2FDJXAW",
        "colab_type": "code",
        "colab": {}
      },
      "source": [
        "# Convert Centralities to Data Frame\n",
        "df_degree = pd.Series(degree).to_frame('degree_centrality')\n",
        "df_betweenness = pd.Series(betweenness).to_frame('betweenness_centrality')\n",
        "df_closeness = pd.Series(closeness).to_frame('closeness_centrality')\n",
        "df_eigenvector = pd.Series(eigenvector).to_frame('eigenvector_centrality')\n",
        "\n",
        "# Join Centralities Data Frame\n",
        "df_centrality = pd.concat([df_degree, df_betweenness, df_closeness, df_eigenvector], axis = 1)\n",
        "df_centrality['username'] = df_centrality.index\n",
        "df_centrality = df_centrality.reset_index(drop = True)\n",
        "df_centrality = df_centrality.sort_values(by=['degree_centrality'], ascending = False)\n",
        "df_centrality = df_centrality.melt('username', var_name='cols',  value_name='centrality')\n",
        "df_centrality\n",
        "\n",
        "# Visualize Scatter Plot\n",
        "plt.figure(figsize=(20,9))\n",
        "sns.scatterplot(x='username', y='centrality', hue='cols', data=df_centrality)"
      ],
      "execution_count": null,
      "outputs": []
    },
    {
      "cell_type": "markdown",
      "metadata": {
        "id": "RMxWj0m7De5J",
        "colab_type": "text"
      },
      "source": [
        "***Visualize Network based on Centrality Measurement***"
      ]
    },
    {
      "cell_type": "code",
      "metadata": {
        "id": "whzLeVNKbPj1",
        "colab_type": "code",
        "colab": {}
      },
      "source": [
        "# Set Degree Dictionary\n",
        "d = dict(degree)\n",
        "\n",
        "# Contstruct a Network\n",
        "G1 = nx.from_pandas_edgelist(df_tweets)\n",
        "\n",
        "# Visualize the Network\n",
        "import matplotlib.pyplot as plt\n",
        "plt.figure(figsize=(50,50))\n",
        "nx.draw(G1, with_labels=True, \n",
        "        node_color='skyblue', nodelist=d.keys(),\n",
        "        node_size=[v * 60000 for v in d.values()], \n",
        "        arrowstyle='->',arrowsize=20, edge_color='r',\n",
        "        font_size=10,\n",
        "        pos=nx.kamada_kawai_layout(G1))"
      ],
      "execution_count": null,
      "outputs": []
    },
    {
      "cell_type": "markdown",
      "metadata": {
        "id": "q9j8PrQWwUA7",
        "colab_type": "text"
      },
      "source": [
        "**Network Topology Measurement**"
      ]
    },
    {
      "cell_type": "markdown",
      "metadata": {
        "id": "WLNTtHEkRWK-",
        "colab_type": "text"
      },
      "source": [
        "The configuration, or topology, of a network is key to determining its performance. Network topology is the way a network is arranged, including the physical or logical description of how links and nodes are set up to relate to each other."
      ]
    },
    {
      "cell_type": "code",
      "metadata": {
        "id": "oLuKZD791wb5",
        "colab_type": "code",
        "colab": {}
      },
      "source": [
        "# Show Number of Nodes\n",
        "nx.number_of_nodes(G1)"
      ],
      "execution_count": null,
      "outputs": []
    },
    {
      "cell_type": "code",
      "metadata": {
        "id": "dHT180js1lHr",
        "colab_type": "code",
        "colab": {}
      },
      "source": [
        "# Show Number of Edges\n",
        "nx.number_of_edges(G1)"
      ],
      "execution_count": null,
      "outputs": []
    },
    {
      "cell_type": "code",
      "metadata": {
        "id": "y6W83y_4xpVK",
        "colab_type": "code",
        "colab": {}
      },
      "source": [
        "# Show Graph Density\n",
        "nx.density(G1)"
      ],
      "execution_count": null,
      "outputs": []
    },
    {
      "cell_type": "code",
      "metadata": {
        "id": "aapo6aGL1N0E",
        "colab_type": "code",
        "colab": {}
      },
      "source": [
        "# Show Number of Connected Component\n",
        "nx.number_connected_components(G1)"
      ],
      "execution_count": null,
      "outputs": []
    },
    {
      "cell_type": "markdown",
      "metadata": {
        "id": "52AuWdV1BtUZ",
        "colab_type": "text"
      },
      "source": [
        "### **Community Detection**"
      ]
    },
    {
      "cell_type": "markdown",
      "metadata": {
        "id": "5qIbaO55RvCz",
        "colab_type": "text"
      },
      "source": [
        "Community detection is a fundamental problem in social network analysis consisting, roughly speaking, in dividing social actors (modelled as nodes in a social graph) with certain social connections (modelled as edges in the social graph) into densely knitted and highly related groups with each group well separated from different group members."
      ]
    },
    {
      "cell_type": "markdown",
      "metadata": {
        "id": "DPq8nalnLduK",
        "colab_type": "text"
      },
      "source": [
        "**Modularity Community**"
      ]
    },
    {
      "cell_type": "code",
      "metadata": {
        "id": "MCv3Y88JeH1d",
        "colab_type": "code",
        "colab": {}
      },
      "source": [
        "# Import Module\n",
        "from networkx.algorithms.community import greedy_modularity_communities\n",
        "\n",
        "# Modularity Community Detection\n",
        "communities_m = sorted(greedy_modularity_communities(G1), key=len, reverse=True)\n",
        "communities_m"
      ],
      "execution_count": null,
      "outputs": []
    },
    {
      "cell_type": "code",
      "metadata": {
        "id": "Dwxt7KhbHK-5",
        "colab_type": "code",
        "colab": {}
      },
      "source": [
        "# Set Node Community Function\n",
        "def set_node_community(G1, communities_m):\n",
        "      '''Add community to node attributes'''\n",
        "      for c, v_c in enumerate(communities_m):\n",
        "        for v in v_c:\n",
        "          # Add 1 to save 0 for external edges\n",
        "          G1.nodes[v]['community'] = c + 1      "
      ],
      "execution_count": null,
      "outputs": []
    },
    {
      "cell_type": "code",
      "metadata": {
        "id": "ujM90pkvH3ME",
        "colab_type": "code",
        "colab": {}
      },
      "source": [
        "# Set Colour Function\n",
        "def get_color(i, r_off=1, g_off=1, b_off=1):\n",
        "     '''Assign a color to a vertex.'''\n",
        "     r0, g0, b0 = 0, 0, 0\n",
        "     n = 16\n",
        "     low, high = 0.1, 0.9\n",
        "     span = high - low\n",
        "     r = low + span * (((i + r_off) * 3) % n) / (n - 1)\n",
        "     g = low + span * (((i + g_off) * 5) % n) / (n - 1)\n",
        "     b = low + span * (((i + b_off) * 7) % n) / (n - 1)\n",
        "     return (r, g, b) "
      ],
      "execution_count": null,
      "outputs": []
    },
    {
      "cell_type": "code",
      "metadata": {
        "id": "X9uXID-6IJfJ",
        "colab_type": "code",
        "colab": {}
      },
      "source": [
        "# Set Node Communities\n",
        "community = set_node_community(G1, communities_m)\n",
        "\n",
        "# Set Node Color\n",
        "node_color = [get_color(G1.nodes[v]['community']) for v in G1.nodes]\n",
        "\n",
        "# Visualize the Network\n",
        "import matplotlib.pyplot as plt\n",
        "plt.figure(figsize=(50,50))\n",
        "nx.draw(G1, with_labels=True, \n",
        "        node_color = node_color, node_size=1200, \n",
        "        arrowstyle='->',arrowsize=20, edge_color='r',\n",
        "        font_size=10, map = plt.get_cmap('jet'),\n",
        "        pos=nx.kamada_kawai_layout(G1))\n",
        "\n"
      ],
      "execution_count": null,
      "outputs": []
    },
    {
      "cell_type": "markdown",
      "metadata": {
        "id": "iDRCwJPeC8Yw",
        "colab_type": "text"
      },
      "source": [
        "**Another Ways to Visualize Network**"
      ]
    },
    {
      "cell_type": "code",
      "metadata": {
        "id": "CFbP5ThnBhfG",
        "colab_type": "code",
        "colab": {}
      },
      "source": [
        "! pip install nxviz"
      ],
      "execution_count": null,
      "outputs": []
    },
    {
      "cell_type": "markdown",
      "metadata": {
        "id": "Vxtkf2JWDN2j",
        "colab_type": "text"
      },
      "source": [
        "Arcplot"
      ]
    },
    {
      "cell_type": "code",
      "metadata": {
        "id": "o7Wvy6HF5O27",
        "colab_type": "code",
        "colab": {}
      },
      "source": [
        "# Import Module\n",
        "from nxviz import ArcPlot\n",
        "\n",
        "# Visualize the Network\n",
        "arcplot = ArcPlot(G1, node_color='community', node_orders='community', node_grouping='community',\n",
        "                  figsize=(20, 20), group_label_position=\"middle\", nodeprops={\"radius\": 2},\n",
        "                  fontsize=12, fontfamily=\"fantasy\")\n",
        "arcplot.draw()\n",
        "plt.show()"
      ],
      "execution_count": null,
      "outputs": []
    },
    {
      "cell_type": "markdown",
      "metadata": {
        "id": "ib48x-lKDPIJ",
        "colab_type": "text"
      },
      "source": [
        "Circosplot"
      ]
    },
    {
      "cell_type": "code",
      "metadata": {
        "id": "3dBZrUEbAx7g",
        "colab_type": "code",
        "colab": {}
      },
      "source": [
        "# Import Module\n",
        "from nxviz import CircosPlot\n",
        "\n",
        "# Visualize the Network\n",
        "circosplot = CircosPlot(G1,\n",
        "                        node_color='community', node_orders='community', node_grouping='community',\n",
        "                        figsize=(20, 20), group_label_position=\"middle\", nodeprops={\"radius\": 2},\n",
        "                        fontsize=12, fontfamily=\"fantasy\")\n",
        "circosplot.draw()\n",
        "plt.show()"
      ],
      "execution_count": null,
      "outputs": []
    },
    {
      "cell_type": "markdown",
      "metadata": {
        "colab_type": "text",
        "id": "lG53wAccNDt8"
      },
      "source": [
        "## **C. Social Network Analysis: Vaksin**"
      ]
    },
    {
      "cell_type": "markdown",
      "metadata": {
        "colab_type": "text",
        "id": "PeHJcAfINDuN"
      },
      "source": [
        "### **Network Construction**"
      ]
    },
    {
      "cell_type": "markdown",
      "metadata": {
        "colab_type": "text",
        "id": "pOxvP0mRNDuQ"
      },
      "source": [
        "Here we construct a social network based on conversations about covid on Twitter."
      ]
    },
    {
      "cell_type": "markdown",
      "metadata": {
        "colab_type": "text",
        "id": "VSv2YhkbNDuR"
      },
      "source": [
        "**Import Edge List Data**"
      ]
    },
    {
      "cell_type": "code",
      "metadata": {
        "colab_type": "code",
        "id": "nUtrK6DiNDuV",
        "colab": {}
      },
      "source": [
        "# Import Data\n",
        "df_tweets = pd.read_csv('https://raw.githubusercontent.com/sma-health/data/master/edgelist_vaksin.csv', sep=',')\n",
        "\n",
        "# Show Data\n",
        "df_tweets"
      ],
      "execution_count": null,
      "outputs": []
    },
    {
      "cell_type": "markdown",
      "metadata": {
        "colab_type": "text",
        "id": "oWsurgG7NDue"
      },
      "source": [
        "**Visualize the Network**"
      ]
    },
    {
      "cell_type": "code",
      "metadata": {
        "colab_type": "code",
        "id": "eA2BTXqyNDug",
        "colab": {}
      },
      "source": [
        "# Contstruct a Network\n",
        "G1 = nx.from_pandas_edgelist(df_tweets)\n",
        "\n",
        "# Visualize the Network\n",
        "import matplotlib.pyplot as plt\n",
        "plt.figure(figsize=(50,50))\n",
        "nx.draw(G1, with_labels=True, \n",
        "        node_color='skyblue', node_size=1200, \n",
        "        arrowstyle='->',arrowsize=20, edge_color='r',\n",
        "        font_size=9,\n",
        "        pos=nx.kamada_kawai_layout(G1))"
      ],
      "execution_count": null,
      "outputs": []
    },
    {
      "cell_type": "markdown",
      "metadata": {
        "colab_type": "text",
        "id": "ygU602cHNDun"
      },
      "source": [
        "### **Network Metrics and Measurement**"
      ]
    },
    {
      "cell_type": "markdown",
      "metadata": {
        "colab_type": "text",
        "id": "ha3aTI8zNDuo"
      },
      "source": [
        "**Centrality Measurement**"
      ]
    },
    {
      "cell_type": "code",
      "metadata": {
        "colab_type": "code",
        "id": "UvRw3Pb2NDur",
        "colab": {}
      },
      "source": [
        "# Degree Centrality\n",
        "degree = nx.degree_centrality(G1)\n",
        "\n",
        "# Sorted from the Highest\n",
        "sorted(nx.degree(G1), key=lambda x: x[1], reverse=True)[0:10]"
      ],
      "execution_count": null,
      "outputs": []
    },
    {
      "cell_type": "code",
      "metadata": {
        "colab_type": "code",
        "id": "HQeZGAjMNDux",
        "colab": {}
      },
      "source": [
        "# Betweenness Centrality\n",
        "betweenness = nx.betweenness_centrality(G1)\n",
        "\n",
        "# Sorted from the Highest\n",
        "sorted(nx.betweenness_centrality(G1, normalized=True).items(), key=lambda x:x[1], reverse=True)[0:10]"
      ],
      "execution_count": null,
      "outputs": []
    },
    {
      "cell_type": "code",
      "metadata": {
        "colab_type": "code",
        "id": "h9nM7m9bNDu3",
        "colab": {}
      },
      "source": [
        "# Closeness Centrality\n",
        "closeness = nx.closeness_centrality(G1)\n",
        "\n",
        "# Sorted from the Highest\n",
        "sorted(nx.closeness_centrality(G1).items(), key=lambda x:x[1], reverse=True)[0:10]"
      ],
      "execution_count": null,
      "outputs": []
    },
    {
      "cell_type": "code",
      "metadata": {
        "colab_type": "code",
        "id": "1padgh-hNDu9",
        "colab": {}
      },
      "source": [
        "# Eigenvector Centrality\n",
        "eigenvector = nx.eigenvector_centrality_numpy(G1)\n",
        "\n",
        "# Sorted from the Highest\n",
        "sorted(nx.eigenvector_centrality_numpy(G1).items(), key=lambda x:x[1], reverse=True)[0:10]"
      ],
      "execution_count": null,
      "outputs": []
    },
    {
      "cell_type": "markdown",
      "metadata": {
        "colab_type": "text",
        "id": "pMODPKmhNDvG"
      },
      "source": [
        "***Visualize Centrality Score with Scatter Plot***"
      ]
    },
    {
      "cell_type": "code",
      "metadata": {
        "colab_type": "code",
        "id": "ebzD3mEKNDvI",
        "colab": {}
      },
      "source": [
        "# Convert Centralities to Data Frame\n",
        "df_degree = pd.Series(degree).to_frame('degree_centrality')\n",
        "df_betweenness = pd.Series(betweenness).to_frame('betweenness_centrality')\n",
        "df_closeness = pd.Series(closeness).to_frame('closeness_centrality')\n",
        "df_eigenvector = pd.Series(eigenvector).to_frame('eigenvector_centrality')\n",
        "\n",
        "# Join Centralities Data Frame\n",
        "df_centrality = pd.concat([df_degree, df_betweenness, df_closeness, df_eigenvector], axis = 1)\n",
        "df_centrality['username'] = df_centrality.index\n",
        "df_centrality = df_centrality.reset_index(drop = True)\n",
        "df_centrality = df_centrality.sort_values(by=['degree_centrality'], ascending = False)\n",
        "df_centrality = df_centrality.melt('username', var_name='cols',  value_name='centrality')\n",
        "df_centrality\n",
        "\n",
        "# Visualize Scatter Plot\n",
        "plt.figure(figsize=(20,9))\n",
        "sns.scatterplot(x='username', y='centrality', hue='cols', data=df_centrality)"
      ],
      "execution_count": null,
      "outputs": []
    },
    {
      "cell_type": "markdown",
      "metadata": {
        "colab_type": "text",
        "id": "dBHgdmWRNDvP"
      },
      "source": [
        "***Visualize Network based on Centrality Measurement***"
      ]
    },
    {
      "cell_type": "code",
      "metadata": {
        "colab_type": "code",
        "id": "1jh4MTI3NDvR",
        "colab": {}
      },
      "source": [
        "# Set Degree Dictionary\n",
        "d = dict(degree)\n",
        "\n",
        "# Contstruct a Network\n",
        "G1 = nx.from_pandas_edgelist(df_tweets)\n",
        "\n",
        "# Visualize the Network\n",
        "import matplotlib.pyplot as plt\n",
        "plt.figure(figsize=(50,50))\n",
        "nx.draw(G1, with_labels=True, \n",
        "        node_color='skyblue', nodelist=d.keys(),\n",
        "        node_size=[v * 60000 for v in d.values()], \n",
        "        arrowstyle='->',arrowsize=20, edge_color='r',\n",
        "        font_size=10,\n",
        "        pos=nx.kamada_kawai_layout(G1))"
      ],
      "execution_count": null,
      "outputs": []
    },
    {
      "cell_type": "markdown",
      "metadata": {
        "colab_type": "text",
        "id": "rQr0T6xhNDvY"
      },
      "source": [
        "**Network Topology Measurement**"
      ]
    },
    {
      "cell_type": "code",
      "metadata": {
        "colab_type": "code",
        "id": "7LIuLCCrNDva",
        "colab": {}
      },
      "source": [
        "# Show Number of Nodes\n",
        "nx.number_of_nodes(G1)"
      ],
      "execution_count": null,
      "outputs": []
    },
    {
      "cell_type": "code",
      "metadata": {
        "colab_type": "code",
        "id": "5g8Uxf0SNDvh",
        "colab": {}
      },
      "source": [
        "# Show Number of Edges\n",
        "nx.number_of_edges(G1)"
      ],
      "execution_count": null,
      "outputs": []
    },
    {
      "cell_type": "code",
      "metadata": {
        "colab_type": "code",
        "id": "z-TBRvPmNDvm",
        "colab": {}
      },
      "source": [
        "# Show Graph Density\n",
        "nx.density(G1)"
      ],
      "execution_count": null,
      "outputs": []
    },
    {
      "cell_type": "code",
      "metadata": {
        "colab_type": "code",
        "id": "XHheAGwVNDvs",
        "colab": {}
      },
      "source": [
        "# Show Number of Connected Component\n",
        "nx.number_connected_components(G1)"
      ],
      "execution_count": null,
      "outputs": []
    },
    {
      "cell_type": "markdown",
      "metadata": {
        "colab_type": "text",
        "id": "nS5kalcQNDvy"
      },
      "source": [
        "### **Community Detection**"
      ]
    },
    {
      "cell_type": "markdown",
      "metadata": {
        "colab_type": "text",
        "id": "nm2qB4qGNDv0"
      },
      "source": [
        "**Modularity Community**"
      ]
    },
    {
      "cell_type": "code",
      "metadata": {
        "colab_type": "code",
        "id": "ZtgtzeVBNDv0",
        "colab": {}
      },
      "source": [
        "# Import Module\n",
        "from networkx.algorithms.community import greedy_modularity_communities\n",
        "\n",
        "# Modularity Community Detection\n",
        "communities_m = sorted(greedy_modularity_communities(G1), key=len, reverse=True)\n",
        "communities_m"
      ],
      "execution_count": null,
      "outputs": []
    },
    {
      "cell_type": "code",
      "metadata": {
        "colab_type": "code",
        "id": "7xME1P15NDv5",
        "colab": {}
      },
      "source": [
        "# Set Node Community Function\n",
        "def set_node_community(G1, communities_m):\n",
        "      '''Add community to node attributes'''\n",
        "      for c, v_c in enumerate(communities_m):\n",
        "        for v in v_c:\n",
        "          # Add 1 to save 0 for external edges\n",
        "          G1.nodes[v]['community'] = c + 1      "
      ],
      "execution_count": null,
      "outputs": []
    },
    {
      "cell_type": "code",
      "metadata": {
        "colab_type": "code",
        "id": "uP408ODjNDwA",
        "colab": {}
      },
      "source": [
        "# Set Colour Function\n",
        "def get_color(i, r_off=1, g_off=1, b_off=1):\n",
        "     '''Assign a color to a vertex.'''\n",
        "     r0, g0, b0 = 0, 0, 0\n",
        "     n = 16\n",
        "     low, high = 0.1, 0.9\n",
        "     span = high - low\n",
        "     r = low + span * (((i + r_off) * 3) % n) / (n - 1)\n",
        "     g = low + span * (((i + g_off) * 5) % n) / (n - 1)\n",
        "     b = low + span * (((i + b_off) * 7) % n) / (n - 1)\n",
        "     return (r, g, b) "
      ],
      "execution_count": null,
      "outputs": []
    },
    {
      "cell_type": "code",
      "metadata": {
        "colab_type": "code",
        "id": "Yd9hTaGnNDwI",
        "colab": {}
      },
      "source": [
        "# Set Node Communities\n",
        "community = set_node_community(G1, communities_m)\n",
        "\n",
        "# Set Node Color\n",
        "node_color = [get_color(G1.nodes[v]['community']) for v in G1.nodes]\n",
        "\n",
        "# Visualize the Network\n",
        "import matplotlib.pyplot as plt\n",
        "plt.figure(figsize=(50,50))\n",
        "nx.draw(G1, with_labels=True, \n",
        "        node_color = node_color, node_size=1200, \n",
        "        arrowstyle='->',arrowsize=20, edge_color='r',\n",
        "        font_size=10, map = plt.get_cmap('jet'),\n",
        "        pos=nx.kamada_kawai_layout(G1))\n",
        "\n"
      ],
      "execution_count": null,
      "outputs": []
    },
    {
      "cell_type": "markdown",
      "metadata": {
        "colab_type": "text",
        "id": "KpnZexyCNDwO"
      },
      "source": [
        "**Another Ways to Visualize Network**"
      ]
    },
    {
      "cell_type": "markdown",
      "metadata": {
        "colab_type": "text",
        "id": "twpqCVYPNDwc"
      },
      "source": [
        "Arcplot"
      ]
    },
    {
      "cell_type": "code",
      "metadata": {
        "colab_type": "code",
        "id": "E03ZTyqcNDwd",
        "colab": {}
      },
      "source": [
        "# Import Module\n",
        "from nxviz import ArcPlot\n",
        "\n",
        "# Visualize the Network\n",
        "arcplot = ArcPlot(G1, node_color='community', node_orders='community', node_grouping='community',\n",
        "                  figsize=(20, 20), group_label_position=\"middle\", nodeprops={\"radius\": 2},\n",
        "                  fontsize=12, fontfamily=\"fantasy\")\n",
        "arcplot.draw()\n",
        "plt.show()"
      ],
      "execution_count": null,
      "outputs": []
    },
    {
      "cell_type": "markdown",
      "metadata": {
        "colab_type": "text",
        "id": "kby_alLANDwp"
      },
      "source": [
        "Circosplot"
      ]
    },
    {
      "cell_type": "code",
      "metadata": {
        "colab_type": "code",
        "id": "KQjt3UYzNDwr",
        "colab": {}
      },
      "source": [
        "# Import Module\n",
        "from nxviz import CircosPlot\n",
        "\n",
        "# Visualize the Network\n",
        "circosplot = CircosPlot(G1,\n",
        "                        node_color='community', node_orders='community', node_grouping='community',\n",
        "                        figsize=(20, 20), group_label_position=\"middle\", nodeprops={\"radius\": 2},\n",
        "                        fontsize=12, fontfamily=\"fantasy\")\n",
        "circosplot.draw()\n",
        "plt.show()"
      ],
      "execution_count": null,
      "outputs": []
    }
  ]
}